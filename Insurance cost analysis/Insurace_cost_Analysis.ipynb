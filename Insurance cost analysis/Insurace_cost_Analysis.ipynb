{
 "cells": [
  {
   "cell_type": "markdown",
   "metadata": {},
   "source": [
    "# PROJECT NAME : INSURACE COST ANALYSIS\n"
   ]
  },
  {
   "cell_type": "markdown",
   "metadata": {},
   "source": [
    "\n",
    "In this project, I have to perform analytics operations on an insurance database that uses the below mentioned parameters.\n",
    "\n",
    "| Parameter |Description| Content type |\n",
    "|---|----|---|\n",
    "|age| Age in years| integer |\n",
    "|gender| Male or Female|integer (1 or 2)|\n",
    "| bmi | Body mass index | float |\n",
    "|no_of_children| Number of children | integer|\n",
    "|smoker| Whether smoker or not | integer (0 or 1)|\n",
    "|region| Which US region - NW, NE, SW, SE | integer (1,2,3 or 4 respectively)| \n",
    "|charges| Annual Insurance charges in USD | float|\n",
    "\n",
    "## Objectives:\n",
    "In this project, I will:\n",
    " - Load the data as a `pandas` dataframe\n",
    " - Clean the data, taking care of the blank entries\n",
    " - Run exploratory data analysis (EDA) and identify the attributes that most affect the `charges`\n",
    " - Develop single variable and multi variable Linear Regression models for predicting the `charges`\n",
    " - Use Ridge regression to refine the performance of Linear regression models. \n",
    " "
   ]
  },
  {
   "cell_type": "markdown",
   "metadata": {},
   "source": [
    "Importing required libraries"
   ]
  },
  {
   "cell_type": "code",
   "execution_count": 7,
   "metadata": {},
   "outputs": [],
   "source": [
    "import numpy as np\n",
    "import pandas as pd\n",
    "import matplotlib.pyplot as plt\n",
    "import seaborn as sns\n",
    "from sklearn.preprocessing import StandardScaler,PolynomialFeatures\n",
    "from sklearn.pipeline import Pipeline\n",
    "from sklearn.linear_model import LinearRegression,Ridge\n",
    "from sklearn.metrics import mean_squared_error,r2_score\n",
    "from sklearn.model_selection import cross_val_predict,cross_val_score,train_test_split"
   ]
  },
  {
   "cell_type": "code",
   "execution_count": 8,
   "metadata": {},
   "outputs": [],
   "source": [
    "#reading the data \n",
    "df = pd.read_csv(\"medical_insurance_dataset.csv\")"
   ]
  },
  {
   "cell_type": "code",
   "execution_count": 9,
   "metadata": {},
   "outputs": [
    {
     "data": {
      "text/html": [
       "<div>\n",
       "<style scoped>\n",
       "    .dataframe tbody tr th:only-of-type {\n",
       "        vertical-align: middle;\n",
       "    }\n",
       "\n",
       "    .dataframe tbody tr th {\n",
       "        vertical-align: top;\n",
       "    }\n",
       "\n",
       "    .dataframe thead th {\n",
       "        text-align: right;\n",
       "    }\n",
       "</style>\n",
       "<table border=\"1\" class=\"dataframe\">\n",
       "  <thead>\n",
       "    <tr style=\"text-align: right;\">\n",
       "      <th></th>\n",
       "      <th>19</th>\n",
       "      <th>1</th>\n",
       "      <th>27.9</th>\n",
       "      <th>0</th>\n",
       "      <th>1.1</th>\n",
       "      <th>3</th>\n",
       "      <th>16884.924</th>\n",
       "    </tr>\n",
       "  </thead>\n",
       "  <tbody>\n",
       "    <tr>\n",
       "      <th>0</th>\n",
       "      <td>18</td>\n",
       "      <td>2</td>\n",
       "      <td>33.770</td>\n",
       "      <td>1</td>\n",
       "      <td>0</td>\n",
       "      <td>4</td>\n",
       "      <td>1725.55230</td>\n",
       "    </tr>\n",
       "    <tr>\n",
       "      <th>1</th>\n",
       "      <td>28</td>\n",
       "      <td>2</td>\n",
       "      <td>33.000</td>\n",
       "      <td>3</td>\n",
       "      <td>0</td>\n",
       "      <td>4</td>\n",
       "      <td>4449.46200</td>\n",
       "    </tr>\n",
       "    <tr>\n",
       "      <th>2</th>\n",
       "      <td>33</td>\n",
       "      <td>2</td>\n",
       "      <td>22.705</td>\n",
       "      <td>0</td>\n",
       "      <td>0</td>\n",
       "      <td>1</td>\n",
       "      <td>21984.47061</td>\n",
       "    </tr>\n",
       "    <tr>\n",
       "      <th>3</th>\n",
       "      <td>32</td>\n",
       "      <td>2</td>\n",
       "      <td>28.880</td>\n",
       "      <td>0</td>\n",
       "      <td>0</td>\n",
       "      <td>1</td>\n",
       "      <td>3866.85520</td>\n",
       "    </tr>\n",
       "    <tr>\n",
       "      <th>4</th>\n",
       "      <td>31</td>\n",
       "      <td>1</td>\n",
       "      <td>25.740</td>\n",
       "      <td>0</td>\n",
       "      <td>?</td>\n",
       "      <td>4</td>\n",
       "      <td>3756.62160</td>\n",
       "    </tr>\n",
       "    <tr>\n",
       "      <th>5</th>\n",
       "      <td>46</td>\n",
       "      <td>1</td>\n",
       "      <td>33.440</td>\n",
       "      <td>1</td>\n",
       "      <td>0</td>\n",
       "      <td>4</td>\n",
       "      <td>8240.58960</td>\n",
       "    </tr>\n",
       "    <tr>\n",
       "      <th>6</th>\n",
       "      <td>37</td>\n",
       "      <td>1</td>\n",
       "      <td>27.740</td>\n",
       "      <td>3</td>\n",
       "      <td>0</td>\n",
       "      <td>1</td>\n",
       "      <td>7281.50560</td>\n",
       "    </tr>\n",
       "    <tr>\n",
       "      <th>7</th>\n",
       "      <td>37</td>\n",
       "      <td>2</td>\n",
       "      <td>29.830</td>\n",
       "      <td>2</td>\n",
       "      <td>0</td>\n",
       "      <td>2</td>\n",
       "      <td>6406.41070</td>\n",
       "    </tr>\n",
       "    <tr>\n",
       "      <th>8</th>\n",
       "      <td>60</td>\n",
       "      <td>1</td>\n",
       "      <td>25.840</td>\n",
       "      <td>0</td>\n",
       "      <td>0</td>\n",
       "      <td>1</td>\n",
       "      <td>28923.13692</td>\n",
       "    </tr>\n",
       "    <tr>\n",
       "      <th>9</th>\n",
       "      <td>25</td>\n",
       "      <td>2</td>\n",
       "      <td>26.220</td>\n",
       "      <td>0</td>\n",
       "      <td>0</td>\n",
       "      <td>2</td>\n",
       "      <td>2721.32080</td>\n",
       "    </tr>\n",
       "  </tbody>\n",
       "</table>\n",
       "</div>"
      ],
      "text/plain": [
       "   19  1    27.9  0 1.1  3    16884.924\n",
       "0  18  2  33.770  1   0  4   1725.55230\n",
       "1  28  2  33.000  3   0  4   4449.46200\n",
       "2  33  2  22.705  0   0  1  21984.47061\n",
       "3  32  2  28.880  0   0  1   3866.85520\n",
       "4  31  1  25.740  0   ?  4   3756.62160\n",
       "5  46  1  33.440  1   0  4   8240.58960\n",
       "6  37  1  27.740  3   0  1   7281.50560\n",
       "7  37  2  29.830  2   0  2   6406.41070\n",
       "8  60  1  25.840  0   0  1  28923.13692\n",
       "9  25  2  26.220  0   0  2   2721.32080"
      ]
     },
     "execution_count": 9,
     "metadata": {},
     "output_type": "execute_result"
    }
   ],
   "source": [
    "df.head(10)"
   ]
  },
  {
   "cell_type": "code",
   "execution_count": 10,
   "metadata": {},
   "outputs": [],
   "source": [
    "#adding headers\n",
    "headers = [\"Age\",\"Gender\",\"BMI\",\"No_of_Children\",\"Smoker\",\"Region\",\"Charges\"]\n",
    "df.columns = headers"
   ]
  },
  {
   "cell_type": "code",
   "execution_count": 11,
   "metadata": {},
   "outputs": [],
   "source": [
    "#replacing '?' entries\n",
    "df.replace('?',np.nan,inplace= True)"
   ]
  },
  {
   "cell_type": "markdown",
   "metadata": {},
   "source": [
    "DATA WRANGLING"
   ]
  },
  {
   "cell_type": "code",
   "execution_count": 12,
   "metadata": {},
   "outputs": [
    {
     "name": "stdout",
     "output_type": "stream",
     "text": [
      "<class 'pandas.core.frame.DataFrame'>\n",
      "RangeIndex: 2771 entries, 0 to 2770\n",
      "Data columns (total 7 columns):\n",
      " #   Column          Non-Null Count  Dtype  \n",
      "---  ------          --------------  -----  \n",
      " 0   Age             2767 non-null   object \n",
      " 1   Gender          2771 non-null   int64  \n",
      " 2   BMI             2771 non-null   float64\n",
      " 3   No_of_Children  2771 non-null   int64  \n",
      " 4   Smoker          2764 non-null   object \n",
      " 5   Region          2771 non-null   int64  \n",
      " 6   Charges         2771 non-null   float64\n",
      "dtypes: float64(2), int64(3), object(2)\n",
      "memory usage: 151.7+ KB\n"
     ]
    }
   ],
   "source": [
    "df.info()"
   ]
  },
  {
   "cell_type": "code",
   "execution_count": 13,
   "metadata": {},
   "outputs": [
    {
     "name": "stdout",
     "output_type": "stream",
     "text": [
      "<class 'pandas.core.frame.DataFrame'>\n",
      "RangeIndex: 2771 entries, 0 to 2770\n",
      "Data columns (total 7 columns):\n",
      " #   Column          Non-Null Count  Dtype  \n",
      "---  ------          --------------  -----  \n",
      " 0   Age             2771 non-null   int32  \n",
      " 1   Gender          2771 non-null   int64  \n",
      " 2   BMI             2771 non-null   float64\n",
      " 3   No_of_Children  2771 non-null   int64  \n",
      " 4   Smoker          2771 non-null   int32  \n",
      " 5   Region          2771 non-null   int64  \n",
      " 6   Charges         2771 non-null   float64\n",
      "dtypes: float64(2), int32(2), int64(3)\n",
      "memory usage: 130.0 KB\n"
     ]
    }
   ],
   "source": [
    "mean_age = df['Age'].astype(\"float\").mean(axis=0)\n",
    "df['Age'].replace(np.nan,mean_age,inplace=True)\n",
    "\n",
    "is_smoker = df['Smoker'].value_counts().idxmax()\n",
    "df['Smoker'].replace(np.nan,is_smoker,inplace=True) \n",
    "\n",
    "df[[\"Age\",\"Smoker\"]] = df[[\"Age\",\"Smoker\"]].astype(\"int\")\n",
    "\n",
    "df.info()"
   ]
  },
  {
   "cell_type": "code",
   "execution_count": 14,
   "metadata": {},
   "outputs": [
    {
     "data": {
      "text/html": [
       "<div>\n",
       "<style scoped>\n",
       "    .dataframe tbody tr th:only-of-type {\n",
       "        vertical-align: middle;\n",
       "    }\n",
       "\n",
       "    .dataframe tbody tr th {\n",
       "        vertical-align: top;\n",
       "    }\n",
       "\n",
       "    .dataframe thead th {\n",
       "        text-align: right;\n",
       "    }\n",
       "</style>\n",
       "<table border=\"1\" class=\"dataframe\">\n",
       "  <thead>\n",
       "    <tr style=\"text-align: right;\">\n",
       "      <th></th>\n",
       "      <th>Age</th>\n",
       "      <th>Gender</th>\n",
       "      <th>BMI</th>\n",
       "      <th>No_of_Children</th>\n",
       "      <th>Smoker</th>\n",
       "      <th>Region</th>\n",
       "      <th>Charges</th>\n",
       "    </tr>\n",
       "  </thead>\n",
       "  <tbody>\n",
       "    <tr>\n",
       "      <th>0</th>\n",
       "      <td>18</td>\n",
       "      <td>2</td>\n",
       "      <td>33.770</td>\n",
       "      <td>1</td>\n",
       "      <td>0</td>\n",
       "      <td>4</td>\n",
       "      <td>1725.55</td>\n",
       "    </tr>\n",
       "    <tr>\n",
       "      <th>1</th>\n",
       "      <td>28</td>\n",
       "      <td>2</td>\n",
       "      <td>33.000</td>\n",
       "      <td>3</td>\n",
       "      <td>0</td>\n",
       "      <td>4</td>\n",
       "      <td>4449.46</td>\n",
       "    </tr>\n",
       "    <tr>\n",
       "      <th>2</th>\n",
       "      <td>33</td>\n",
       "      <td>2</td>\n",
       "      <td>22.705</td>\n",
       "      <td>0</td>\n",
       "      <td>0</td>\n",
       "      <td>1</td>\n",
       "      <td>21984.47</td>\n",
       "    </tr>\n",
       "    <tr>\n",
       "      <th>3</th>\n",
       "      <td>32</td>\n",
       "      <td>2</td>\n",
       "      <td>28.880</td>\n",
       "      <td>0</td>\n",
       "      <td>0</td>\n",
       "      <td>1</td>\n",
       "      <td>3866.86</td>\n",
       "    </tr>\n",
       "    <tr>\n",
       "      <th>4</th>\n",
       "      <td>31</td>\n",
       "      <td>1</td>\n",
       "      <td>25.740</td>\n",
       "      <td>0</td>\n",
       "      <td>0</td>\n",
       "      <td>4</td>\n",
       "      <td>3756.62</td>\n",
       "    </tr>\n",
       "  </tbody>\n",
       "</table>\n",
       "</div>"
      ],
      "text/plain": [
       "   Age  Gender     BMI  No_of_Children  Smoker  Region   Charges\n",
       "0   18       2  33.770               1       0       4   1725.55\n",
       "1   28       2  33.000               3       0       4   4449.46\n",
       "2   33       2  22.705               0       0       1  21984.47\n",
       "3   32       2  28.880               0       0       1   3866.86\n",
       "4   31       1  25.740               0       0       4   3756.62"
      ]
     },
     "execution_count": 14,
     "metadata": {},
     "output_type": "execute_result"
    }
   ],
   "source": [
    "# rounding up the charges to 2 decimal places \n",
    "df['Charges']=np.round(df[['Charges']],2)\n",
    "df.head()"
   ]
  },
  {
   "cell_type": "markdown",
   "metadata": {},
   "source": [
    "# Exploratory Data Analysis (EDA)"
   ]
  },
  {
   "cell_type": "markdown",
   "metadata": {},
   "source": [
    "Regression plot: BMI Vs Charges"
   ]
  },
  {
   "cell_type": "code",
   "execution_count": 15,
   "metadata": {},
   "outputs": [
    {
     "data": {
      "text/plain": [
       "(0.0, 66902.85800000001)"
      ]
     },
     "execution_count": 15,
     "metadata": {},
     "output_type": "execute_result"
    },
    {
     "data": {
      "image/png": "[encoded data removed]",
      "text/plain": [
       "<Figure size 640x480 with 1 Axes>"
      ]
     },
     "metadata": {},
     "output_type": "display_data"
    }
   ],
   "source": [
    "sns.regplot(x=df['BMI'],y=df['Charges'],line_kws={\"color\" : \"Red\"})\n",
    "plt.ylim(0,)"
   ]
  },
  {
   "cell_type": "markdown",
   "metadata": {},
   "source": [
    "Boxplot:Smoker Vs Charges"
   ]
  },
  {
   "cell_type": "code",
   "execution_count": 16,
   "metadata": {},
   "outputs": [
    {
     "data": {
      "text/plain": [
       "<Axes: xlabel='Smoker', ylabel='Charges'>"
      ]
     },
     "execution_count": 16,
     "metadata": {},
     "output_type": "execute_result"
    },
    {
     "data": {
      "image/png": "[encoded data removed]",
      "text/plain": [
       "<Figure size 640x480 with 1 Axes>"
      ]
     },
     "metadata": {},
     "output_type": "display_data"
    }
   ],
   "source": [
    "sns.boxplot(x='Smoker',y='Charges',data=df ,palette=\"flare\",hue=\"Smoker\",legend=False)"
   ]
  },
  {
   "cell_type": "code",
   "execution_count": 17,
   "metadata": {},
   "outputs": [
    {
     "data": {
      "text/html": [
       "<div>\n",
       "<style scoped>\n",
       "    .dataframe tbody tr th:only-of-type {\n",
       "        vertical-align: middle;\n",
       "    }\n",
       "\n",
       "    .dataframe tbody tr th {\n",
       "        vertical-align: top;\n",
       "    }\n",
       "\n",
       "    .dataframe thead th {\n",
       "        text-align: right;\n",
       "    }\n",
       "</style>\n",
       "<table border=\"1\" class=\"dataframe\">\n",
       "  <thead>\n",
       "    <tr style=\"text-align: right;\">\n",
       "      <th></th>\n",
       "      <th>Age</th>\n",
       "      <th>Gender</th>\n",
       "      <th>BMI</th>\n",
       "      <th>No_of_Children</th>\n",
       "      <th>Smoker</th>\n",
       "      <th>Region</th>\n",
       "      <th>Charges</th>\n",
       "    </tr>\n",
       "  </thead>\n",
       "  <tbody>\n",
       "    <tr>\n",
       "      <th>Age</th>\n",
       "      <td>1.000000</td>\n",
       "      <td>-0.026584</td>\n",
       "      <td>0.112859</td>\n",
       "      <td>0.037126</td>\n",
       "      <td>-0.022290</td>\n",
       "      <td>-0.006969</td>\n",
       "      <td>0.298892</td>\n",
       "    </tr>\n",
       "    <tr>\n",
       "      <th>Gender</th>\n",
       "      <td>-0.026584</td>\n",
       "      <td>1.000000</td>\n",
       "      <td>0.042766</td>\n",
       "      <td>0.015693</td>\n",
       "      <td>0.083125</td>\n",
       "      <td>0.022360</td>\n",
       "      <td>0.062959</td>\n",
       "    </tr>\n",
       "    <tr>\n",
       "      <th>BMI</th>\n",
       "      <td>0.112859</td>\n",
       "      <td>0.042766</td>\n",
       "      <td>1.000000</td>\n",
       "      <td>-0.001642</td>\n",
       "      <td>0.011824</td>\n",
       "      <td>0.271200</td>\n",
       "      <td>0.199906</td>\n",
       "    </tr>\n",
       "    <tr>\n",
       "      <th>No_of_Children</th>\n",
       "      <td>0.037126</td>\n",
       "      <td>0.015693</td>\n",
       "      <td>-0.001642</td>\n",
       "      <td>1.000000</td>\n",
       "      <td>0.007016</td>\n",
       "      <td>-0.025594</td>\n",
       "      <td>0.066551</td>\n",
       "    </tr>\n",
       "    <tr>\n",
       "      <th>Smoker</th>\n",
       "      <td>-0.022290</td>\n",
       "      <td>0.083125</td>\n",
       "      <td>0.011824</td>\n",
       "      <td>0.007016</td>\n",
       "      <td>1.000000</td>\n",
       "      <td>0.053839</td>\n",
       "      <td>0.789141</td>\n",
       "    </tr>\n",
       "    <tr>\n",
       "      <th>Region</th>\n",
       "      <td>-0.006969</td>\n",
       "      <td>0.022360</td>\n",
       "      <td>0.271200</td>\n",
       "      <td>-0.025594</td>\n",
       "      <td>0.053839</td>\n",
       "      <td>1.000000</td>\n",
       "      <td>0.054018</td>\n",
       "    </tr>\n",
       "    <tr>\n",
       "      <th>Charges</th>\n",
       "      <td>0.298892</td>\n",
       "      <td>0.062959</td>\n",
       "      <td>0.199906</td>\n",
       "      <td>0.066551</td>\n",
       "      <td>0.789141</td>\n",
       "      <td>0.054018</td>\n",
       "      <td>1.000000</td>\n",
       "    </tr>\n",
       "  </tbody>\n",
       "</table>\n",
       "</div>"
      ],
      "text/plain": [
       "                     Age    Gender       BMI  No_of_Children    Smoker  \\\n",
       "Age             1.000000 -0.026584  0.112859        0.037126 -0.022290   \n",
       "Gender         -0.026584  1.000000  0.042766        0.015693  0.083125   \n",
       "BMI             0.112859  0.042766  1.000000       -0.001642  0.011824   \n",
       "No_of_Children  0.037126  0.015693 -0.001642        1.000000  0.007016   \n",
       "Smoker         -0.022290  0.083125  0.011824        0.007016  1.000000   \n",
       "Region         -0.006969  0.022360  0.271200       -0.025594  0.053839   \n",
       "Charges         0.298892  0.062959  0.199906        0.066551  0.789141   \n",
       "\n",
       "                  Region   Charges  \n",
       "Age            -0.006969  0.298892  \n",
       "Gender          0.022360  0.062959  \n",
       "BMI             0.271200  0.199906  \n",
       "No_of_Children -0.025594  0.066551  \n",
       "Smoker          0.053839  0.789141  \n",
       "Region          1.000000  0.054018  \n",
       "Charges         0.054018  1.000000  "
      ]
     },
     "execution_count": 17,
     "metadata": {},
     "output_type": "execute_result"
    }
   ],
   "source": [
    "df.corr(numeric_only=True)"
   ]
  },
  {
   "cell_type": "markdown",
   "metadata": {},
   "source": [
    "The Attributes that affect `charges` the most is:  \n",
    "---> `Smoker`    \n",
    "---> `BMI`\n",
    " "
   ]
  },
  {
   "cell_type": "markdown",
   "metadata": {},
   "source": [
    "# Model Development\n"
   ]
  },
  {
   "cell_type": "code",
   "execution_count": 18,
   "metadata": {},
   "outputs": [
    {
     "data": {
      "text/plain": [
       "0.6227430402464125"
      ]
     },
     "execution_count": 18,
     "metadata": {},
     "output_type": "execute_result"
    }
   ],
   "source": [
    "lr = LinearRegression()\n",
    "X = df[['Smoker']]\n",
    "Y = df['Charges']\n",
    "lr.fit(X,Y)\n",
    "lr.score(X,Y)"
   ]
  },
  {
   "cell_type": "markdown",
   "metadata": {},
   "source": [
    "To improve the model's performance\n"
   ]
  },
  {
   "cell_type": "code",
   "execution_count": 19,
   "metadata": {},
   "outputs": [
    {
     "data": {
      "text/plain": [
       "0.7505888664568174"
      ]
     },
     "execution_count": 19,
     "metadata": {},
     "output_type": "execute_result"
    }
   ],
   "source": [
    "Z = df[[\"Age\",\"Gender\",\"BMI\",\"No_of_Children\",\"Smoker\",\"Region\"]]\n",
    "Y = df['Charges']\n",
    "lr.fit(Z,Y)\n",
    "lr.score(Z,Y)"
   ]
  },
  {
   "cell_type": "markdown",
   "metadata": {},
   "source": [
    "Creating a pipeline"
   ]
  },
  {
   "cell_type": "code",
   "execution_count": 20,
   "metadata": {},
   "outputs": [
    {
     "name": "stdout",
     "output_type": "stream",
     "text": [
      "0.8453715392272488\n"
     ]
    }
   ],
   "source": [
    "Input = [('scale',StandardScaler()),('polymonial',PolynomialFeatures(include_bias=False)),(\"model\",LinearRegression())]\n",
    "pipe= Pipeline(Input)\n",
    "Z = Z.astype(float)\n",
    "pipe.fit(Z,Y)\n",
    "ypipe= pipe.predict(Z)\n",
    "print(r2_score(Y,ypipe))\n"
   ]
  },
  {
   "cell_type": "markdown",
   "metadata": {},
   "source": [
    "# Model Refinement"
   ]
  },
  {
   "cell_type": "code",
   "execution_count": 21,
   "metadata": {},
   "outputs": [],
   "source": [
    "x_train,x_test,y_train,y_test = train_test_split(Z,Y,test_size=0.2,random_state = 1)"
   ]
  },
  {
   "cell_type": "markdown",
   "metadata": {},
   "source": [
    "Initializing a ridgeregressor model "
   ]
  },
  {
   "cell_type": "code",
   "execution_count": 24,
   "metadata": {},
   "outputs": [
    {
     "name": "stdout",
     "output_type": "stream",
     "text": [
      "0.7254198858412229\n"
     ]
    }
   ],
   "source": [
    "Ridgemodel = Ridge(alpha=0.1)\n",
    "Ridgemodel.fit(x_train,y_train)\n",
    "yhat = Ridgemodel.predict(x_test)\n",
    "print(r2_score(y_test,yhat))"
   ]
  },
  {
   "cell_type": "markdown",
   "metadata": {},
   "source": [
    "Applying polynomial transformation"
   ]
  },
  {
   "cell_type": "code",
   "execution_count": 26,
   "metadata": {},
   "outputs": [
    {
     "name": "stdout",
     "output_type": "stream",
     "text": [
      "0.8208413195172467\n"
     ]
    }
   ],
   "source": [
    "pr = PolynomialFeatures(degree=2)\n",
    "x_train_pr = pr.fit_transform(x_train)\n",
    "x_test_pr = pr.fit_transform(x_test)\n",
    "Ridgemodel.fit(x_train_pr, y_train)\n",
    "y_hat = Ridgemodel.predict(x_test_pr)\n",
    "print(r2_score(y_test,y_hat))"
   ]
  }
 ],
 "metadata": {
  "language_info": {
   "name": "python"
  }
 },
 "nbformat": 4,
 "nbformat_minor": 2
}
