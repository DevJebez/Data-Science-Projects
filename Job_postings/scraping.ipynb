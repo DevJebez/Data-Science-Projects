{
 "cells": [
  {
   "cell_type": "markdown",
   "metadata": {},
   "source": [
    "# Web Scraping\n",
    "    "
   ]
  },
  {
   "cell_type": "code",
   "execution_count": 1,
   "metadata": {},
   "outputs": [
    {
     "name": "stdout",
     "output_type": "stream",
     "text": [
      "This is my new web scraping project\n"
     ]
    }
   ],
   "source": [
    "print(\"This is my new web scraping project\")"
   ]
  },
  {
   "cell_type": "code",
   "execution_count": 3,
   "metadata": {},
   "outputs": [
    {
     "name": "stdout",
     "output_type": "stream",
     "text": [
      "Selenium is working!\n"
     ]
    }
   ],
   "source": [
    "from selenium import webdriver\n",
    "\n",
    "driver = webdriver.Chrome()  # Ensure ChromeDriver is in your system PATH\n",
    "driver.get(\"https://www.google.com\")\n",
    "print(\"Selenium is working!\")\n",
    "driver.quit()\n"
   ]
  },
  {
   "cell_type": "code",
   "execution_count": null,
   "metadata": {},
   "outputs": [],
   "source": [
    "from selenium import webdriver\n",
    "from selenium.webdriver.common.by import By\n",
    "import time\n",
    "import csv\n",
    "\n",
    "# Setup WebDriver\n",
    "driver = webdriver.Chrome()\n",
    "driver.get(\"https://www.glassdoor.com/Job/data-scientist-jobs-SRCH_KO0,14.htm\")\n",
    "\n",
    "time.sleep(5)  # Wait for page to load\n",
    "\n",
    "# Find all job listings\n",
    "job_cards = driver.find_elements(By.CLASS_NAME, \"\")  # Modify based on Glassdoor's structure\n",
    "\n",
    "# Open a CSV file to store the results\n",
    "with open(\"glassdoor_jobs.csv\", \"w\", newline=\"\", encoding=\"utf-8\") as file:\n",
    "    writer = csv.writer(file)\n",
    "    writer.writerow([\"Job Title\", \"Company\", \"Location\",\"Salary\",\"Link\"])  # Add more columns as needed\n",
    "\n",
    "    for job in job_cards:\n",
    "        try:\n",
    "            title = job.find_element(By.CLASS_NAME, \"jobTitle\").text\n",
    "            company = job.find_element(By.CLASS_NAME, \"companyName\").text\n",
    "            location = job.find_element(By.CLASS_NAME, \"location\").text\n",
    "            writer.writerow([title, company, location])\n",
    "        except Exception as e:\n",
    "            print(\"Error extracting data:\", e)\n",
    "\n",
    "driver.quit()\n",
    "print(\"Scraping completed! Data saved to glassdoor_jobs.csv\")\n"
   ]
  }
 ],
 "metadata": {
  "kernelspec": {
   "display_name": "Python 3",
   "language": "python",
   "name": "python3"
  },
  "language_info": {
   "codemirror_mode": {
    "name": "ipython",
    "version": 3
   },
   "file_extension": ".py",
   "mimetype": "text/x-python",
   "name": "python",
   "nbconvert_exporter": "python",
   "pygments_lexer": "ipython3",
   "version": "3.11.4"
  }
 },
 "nbformat": 4,
 "nbformat_minor": 2
}
